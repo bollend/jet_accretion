{
 "cells": [
  {
   "cell_type": "code",
   "execution_count": 2,
   "metadata": {},
   "outputs": [],
   "source": [
    "import sys\n",
    "sys.path.append('/lhome/dylanb/astronomy/MCMC_main/MCMC_main')\n",
    "sys.path.append('/lhome/dylanb/astronomy/jet_accretion/jet_accretion')\n",
    "import argparse\n",
    "import numpy as np\n",
    "import matplotlib.pylab as plt\n",
    "import scipy\n",
    "from scipy.constants import *\n",
    "from scipy import integrate\n",
    "from sympy import mpmath as mp\n",
    "import ionisation_excitation as ie\n",
    "import radiative_transfer as rt\n",
    "import pickle\n",
    "import Cone\n",
    "import geometry_binary\n",
    "from radiative_transfer import *\n",
    "from astropy import units as u\n",
    "\n",
    "#\"\"\"\"\"\"\"\"\"\"\"\"\"\"\"\"\"\"\"\"\"\"\"\"\"\"\"\"\"\"\"\"\"\"\"\"\"\"\"\"\"\"\"\"\"\"\"\"\"\"\"\"\"\"\"\"\"\"\"\"\"\"\"\"\"\"\"\"\"\"\"\"\"\"\"\"\"\"\"\n",
    "#   ============================================================================\n",
    "#   We first initialise the spectral line properties, input data (spectra),\n",
    "#   orbital parameters, and jet parameters that we need to calculate the\n",
    "#   absorption by the jet.\n",
    "#   Next, create the post-AGB star (as a Fibonacci-grid), the binary system and\n",
    "#   the jet configuration.\n",
    "#   We then calculate the amount of absorption by the jet in the spectral line,\n",
    "#   and its equivalent width and compare it with the observations.\n",
    "#   ============================================================================\n",
    "#\"\"\"\"\"\"\"\"\"\"\"\"\"\"\"\"\"\"\"\"\"\"\"\"\"\"\"\"\"\"\"\"\"\"\"\"\"\"\"\"\"\"\"\"\"\"\"\"\"\"\"\"\"\"\"\"\"\"\"\"\"\"\"\"\"\"\"\"\"\"\"\"\"\"\"\"\"\"\"\"\n",
    "\n",
    "\"\"\"\n",
    "==================================================\n",
    "Command line input\n",
    "==================================================\n",
    "\"\"\"\n",
    "# args = sys.argv\n",
    "\n",
    "# parser = argparse.ArgumentParser()\n",
    "\n",
    "# parser.add_argument('-o', dest='object_id',\n",
    "#                     help='Object identifier')\n",
    "# parser.add_argument('-l', dest='line', help='The spectral line')\n",
    "\n",
    "# args          = parser.parse_args()\n",
    "# object_id     = args.object_id\n",
    "# spectral_line = args.line\n",
    "\n",
    "object_id = 'IRAS19135+3937'\n",
    "spectral_line = 'halpha'"
   ]
  },
  {
   "cell_type": "code",
   "execution_count": 3,
   "metadata": {
    "collapsed": true
   },
   "outputs": [],
   "source": [
    "\n",
    "\"\"\"\n",
    "#==================================================\n",
    "#Balmer line properties (ionisation and excitation)\n",
    "#==================================================\n",
    "\"\"\"\n",
    "\n",
    "###### Hydrogen properties #####################################################\n",
    "E_ionisation_H      = np.array([13.6, 0]) # ionisation energy in eV\n",
    "E_levels_H          = {1: np.array([0, 10.2, 12.1, 12.76]), 2: np.array([0])} # (eV) energy levels of all excitation states for each ionisation level\n",
    "degeneracy_H        = {1: np.array([2, 8, 18, 32]), 2: np.array([1])} # Degeneracy of the excitation states\n",
    "\n",
    "###### Balmer properties, i.e., einstein coefficients for Halpha, Hbeta, #######\n",
    "###### Hgamma, and Hdelta ######################################################\n",
    "\n",
    "wave_0 = {'halpha': 6562.8e-10, 'hbeta': 4861.35e-10, 'hgamma': 4340.47e-10,\\\n",
    "         'hdelta': 4101.73e-10}\n",
    "# B_lu = np.array([4.568e14, 6.167e14, 6.907e14, 7.309e14])\n",
    "B_lu = np.array([1.6842e+21]) # from wikipedia\n",
    "line = 'halpha'\n",
    "\n"
   ]
  },
  {
   "cell_type": "code",
   "execution_count": 88,
   "metadata": {},
   "outputs": [
    {
     "name": "stdout",
     "output_type": "stream",
     "text": [
      "2454945.27609\n"
     ]
    }
   ],
   "source": [
    "\n",
    "\n",
    "\"\"\"\n",
    "#================================\n",
    "#Binary system and jet properties\n",
    "#================================\n",
    "\"\"\"\n",
    "AU              = 1.496e+11     # 1AU in m\n",
    "AU_to_km        = 1.496e+08     # 1AU in km\n",
    "days_to_sec     = 24*60*60      # 1day in seconds\n",
    "degr_to_rad     = np.pi/180    # Degrees to radians\n",
    "###### Read in the object specific and model parameters ########################\n",
    "parameters = {}\n",
    "with open('../jet_accretion/input_data/'+str(object_id)+'/'+str(object_id)+'.dat') as f:\n",
    "    lines  = f.readlines()[2:]\n",
    "\n",
    "for l in lines:\n",
    "    split_lines       = l.split()\n",
    "    title             = split_lines[0]\n",
    "    value             = split_lines[1]\n",
    "    parameters[title] = value\n",
    "\n",
    "###### Wavelength ##############################################################\n",
    "central_wavelength  = eval(parameters['w_c_'+str(line)])        # (angstrom)\n",
    "w_begin             = eval(parameters['w_begin_'+str(line)])    # (angstrom)\n",
    "w_end               = eval(parameters['w_end_'+str(line)])      # (angstrom)\n",
    "###### Binary system and stellar parameters ####################################\n",
    "omega               = eval(parameters['omega'])    # Argument of periastron (degrees)\n",
    "ecc                 = eval(parameters['ecc'])      # Eccentricity\n",
    "T0                  = eval(parameters['T0'])       # Time of periastron (days)\n",
    "period              = eval(parameters['period'])   # period (days)\n",
    "primary_asini       = eval(parameters['asini'])    # asini of the primary (AU)\n",
    "primary_rad_vel     = eval(parameters['K_p'])      # Radial velocity primary (km s^-1)\n",
    "primary_sma_a1      = eval(parameters['R_p'])      # SMA of the primary (a1)\n",
    "primary_mass        = eval(parameters['m_p'])\t   # mass primary (M_sol)\n",
    "primary_Teff        = eval(parameters['T_eff'])    # Surface temperature of the primary (K)\n",
    "mass_function       = eval(parameters['fm'])       # mass function (AU)\n",
    "angular_frequency   = 2. * np.pi / period          # angular frequency (days^-1)\n",
    "gridpoints_LOS      = eval(parameters['points_pathlength']) # number of points along the path length trough the jet\n",
    "gridpoints_primary  = eval(parameters['points_primary'])    # number of points on the primary star\n",
    "###### Jet model solution parameters ###########################################\n",
    "jet_type            = parameters['jet_type']               # None\n",
    "inclination         = eval(parameters['incl']) * degr_to_rad     # radians\n",
    "jet_angle           = eval(parameters['alp']) * degr_to_rad      # radians\n",
    "const_optical_depth = eval(parameters['const_optical_depth'])    # None\n",
    "velocity_centre     = eval(parameters['velocity_centre'])        # km s^-1\n",
    "velocity_edge       = eval(parameters['velocity_edge'])          # km s^-1\n",
    "primary_radius_a1   = eval(parameters['radius_primary_a1'])      # a1\n",
    "primary_radius_au   = eval(parameters['radius_primary_au'])      # AU\n",
    "power_density       = eval(parameters['c_den'])                  # None\n",
    "power_velocity      = eval(parameters['c_vel'])                  # None\n",
    "###### Binary system and stellar parameters from jet solution ##################\n",
    "primary_sma_AU      = primary_asini / np.sin(inclination) # SMA of the primary (AU)\n",
    "primary_max_vel     = primary_rad_vel / np.sin(inclination) # Orbital velocity (km/s)\n",
    "secondary_mass      = geometry_binary.calc_mass_sec(primary_mass, inclination, mass_function) # (AU)\n",
    "mass_ratio          = primary_mass / secondary_mass       # None\n",
    "secondary_sma_AU    = primary_sma_AU * mass_ratio         # SMA of the secondary (AU)\n",
    "secondary_rad_vel   = primary_rad_vel * mass_ratio        # Radial velocity secondary (km/s)\n",
    "secondary_max_vel   = primary_max_vel * mass_ratio        # Orbital velocity secondary (km/s)\n",
    "T_inf               = geometry_binary.T0_to_IC(omega, ecc, period, T0)\n",
    "\n",
    "print(T_inf)"
   ]
  },
  {
   "cell_type": "code",
   "execution_count": 89,
   "metadata": {},
   "outputs": [
    {
     "name": "stdout",
     "output_type": "stream",
     "text": [
      "[11, 14, 22, 25, 30, 37, 38, 40, 42, 43, 45, 49, 53, 56, 60, 68, 70, 74, 82, 94, 98, 99]\n",
      "['412254', '412470', '413299', '395745', '414226', '415391', '397189', '415686', '399553', '415971', '416105', '416578', '417170', '403024', '418187', '419147', '419301', '406609', '421031', '410256', '410862', '411001']\n"
     ]
    }
   ],
   "source": [
    "\"\"\"\n",
    "===============\n",
    "Stellar spectra\n",
    "===============\n",
    "\"\"\"\n",
    "\n",
    "###### Observed spectra, background spectra, and wavelength region #############\n",
    "spectrum_test = '416105'\n",
    "phase_test    = 45\n",
    "with open('../jet_accretion/input_data/'+object_id+'/'+object_id+'_observed_'+line+'.txt', 'rb') as f:\n",
    "    spectra_observed    = pickle.load(f)\n",
    "with open('../jet_accretion/input_data/'+object_id+'/'+object_id+'_wavelength_'+line+'.txt', 'rb') as f:\n",
    "    spectra_wavelengths = pickle.load(f)\n",
    "with open('../jet_accretion/input_data/'+object_id+'/'+object_id+'_init_'+line+'.txt', 'rb') as f:\n",
    "    spectra_background  = pickle.load(f)\n",
    "phases = list()\n",
    "spectra = list()\n",
    "for ph in spectra_observed.keys():\n",
    "    phases.append(ph)\n",
    "    for spectrum in spectra_observed[ph].keys():\n",
    "        spectra.append(spectrum)\n",
    "\n",
    "print(phases)\n",
    "print(spectra)\n",
    "###### uncertainty on the data #################################################\n",
    "\n",
    "standard_deviation = {}\n",
    "with open('../jet_accretion/input_data/'+object_id+'/'+object_id+'_signal_to_noise_'+str(line)+'.txt', 'rb') as f:\n",
    "    signal_to_noise = pickle.load(f)\n",
    "with open('../jet_accretion/input_data/'+object_id+'/'+object_id+'_stdev_init_'+str(line)+'.txt', 'rb') as f:\n",
    "    uncertainty_background = pickle.load(f)\n",
    "\n",
    "for ph in uncertainty_background:\n",
    "    standard_deviation[ph] = {}\n",
    "    for spectrum in uncertainty_background[ph]:\n",
    "        standard_deviation[ph][spectrum] = \\\n",
    "                    2./signal_to_noise[spectrum] + uncertainty_background[ph][spectrum]\n",
    "\n",
    "###### Cut the wavelength region if necessary ##################################\n",
    "\n",
    "wavmin = min(range(len(spectra_wavelengths)), key = lambda j: abs(spectra_wavelengths[j]- w_begin))\n",
    "wavmax = min(range(len(spectra_wavelengths)), key = lambda j: abs(spectra_wavelengths[j]- w_end))\n",
    "spectra_wavelengths = spectra_wavelengths[wavmin:wavmax]\n",
    "\n",
    "for ph in spectra_observed:\n",
    "    for spectrum in spectra_observed[ph]:\n",
    "        spectra_observed[ph][spectrum]   = spectra_observed[ph][spectrum][wavmin:wavmax]\n",
    "        spectra_background[ph][spectrum] = spectra_background[ph][spectrum][wavmin:wavmax]\n",
    "        standard_deviation[ph][spectrum] = standard_deviation[ph][spectrum][wavmin:wavmax]\n"
   ]
  },
  {
   "cell_type": "code",
   "execution_count": 90,
   "metadata": {
    "collapsed": true
   },
   "outputs": [],
   "source": [
    "\n",
    "\"\"\"\n",
    "=======================\n",
    "Create the binary orbit\n",
    "=======================\n",
    "\"\"\"\n",
    "primary_orbit = {}\n",
    "secondary_orbit = {}\n",
    "for ph in phases:\n",
    "    prim_pos, sec_pos, prim_vel, sec_vel = geometry_binary.pos_vel_primary_secondary(ph, period,\n",
    "                                           omega, ecc, primary_sma_AU,\n",
    "                                           secondary_sma_AU, T_inf, T0)\n",
    "    primary_orbit[ph]               = {}\n",
    "    secondary_orbit[ph]             = {}\n",
    "    primary_orbit[ph]['position']   = prim_pos\n",
    "    primary_orbit[ph]['velocity']   = prim_vel\n",
    "    secondary_orbit[ph]['position'] = sec_pos\n",
    "    secondary_orbit[ph]['velocity'] = sec_vel\n",
    "\n"
   ]
  },
  {
   "cell_type": "code",
   "execution_count": 139,
   "metadata": {},
   "outputs": [
    {
     "name": "stdout",
     "output_type": "stream",
     "text": [
      "1.3753194505715316\n"
     ]
    }
   ],
   "source": [
    "\n",
    "\"\"\"\n",
    "==========================================\n",
    "Create post-AGB star with a Fibonacci grid\n",
    "==========================================\n",
    "\"\"\"\n",
    "print(inclination)\n",
    "import Star\n",
    "postAGB = Star.Star(primary_radius_au, primary_orbit[phase_test]['position'], inclination, gridpoints_primary)\n",
    "postAGB._set_grid()\n",
    "postAGB._set_grid_location()"
   ]
  },
  {
   "cell_type": "code",
   "execution_count": 140,
   "metadata": {},
   "outputs": [
    {
     "data": {
      "image/png": "[encoded data removed]",
      "text/plain": [
       "<matplotlib.figure.Figure at 0x7f25b4f177f0>"
      ]
     },
     "metadata": {},
     "output_type": "display_data"
    }
   ],
   "source": [
    "for loc in primary_orbit:\n",
    "    postAGB.centre = primary_orbit[loc]['position']\n",
    "    postAGB._set_grid_location()\n",
    "    plt.plot(postAGB.grid_location[:,0], postAGB.grid_location[:,1])\n",
    "plt.axis('equal')\n",
    "plt.show()"
   ]
  },
  {
   "cell_type": "code",
   "execution_count": 141,
   "metadata": {},
   "outputs": [],
   "source": [
    "\"\"\"\n",
    "==============\n",
    "Create the jet\n",
    "==============\n",
    "\"\"\"\n",
    "import importlib\n",
    "importlib.reload(Cone)\n",
    "jet = Cone.Stellar_jet_simple(inclination,\n",
    "                             jet_angle,\n",
    "                             velocity_centre,\n",
    "                             velocity_edge,\n",
    "                             jet_type, jet_centre=secondary_orbit[phase_test]['position'])\n",
    "jet._set_gridpoints(primary_orbit[phase_test]['position'], gridpoints_LOS)\n",
    "jet._set_gridpoints_unit_vector()\n",
    "jet._set_gridpoints_polar_angle()"
   ]
  },
  {
   "cell_type": "code",
   "execution_count": 142,
   "metadata": {},
   "outputs": [
    {
     "name": "stdout",
     "output_type": "stream",
     "text": [
      "[ 0.02750796  0.24574232  0.        ]\n"
     ]
    },
    {
     "data": {
      "image/png": "[encoded data removed]",
      "text/plain": [
       "<matplotlib.figure.Figure at 0x7f25b4291cc0>"
      ]
     },
     "metadata": {},
     "output_type": "display_data"
    }
   ],
   "source": [
    "postAGB.centre = primary_orbit[phase_test]['position']\n",
    "postAGB._set_grid_location()\n",
    "plt.plot(postAGB.grid_location[:,1], postAGB.grid_location[:,2])\n",
    "plt.plot(jet.gridpoints[:,1],jet.gridpoints[:,2])\n",
    "plt.plot(jet.jet_centre[1], jet.jet_centre[2], '+')\n",
    "print(jet.jet_centre)\n",
    "# for i in range(np.arange(0,0.2,0.01)):\n",
    "    \n",
    "plt.axis('equal')\n",
    "plt.show()\n"
   ]
  },
  {
   "cell_type": "code",
   "execution_count": 150,
   "metadata": {},
   "outputs": [
    {
     "name": "stdout",
     "output_type": "stream",
     "text": [
      "[ 75.9         57.26707654  29.40140181  45.79088323  57.88912463\n",
      "  63.82583326  67.20157491  69.35424026  70.84001619  71.925025\n",
      "  72.75126334  73.40104127  73.92523573  74.35693951  74.71858668\n",
      "  75.02591445  75.29028367  75.52009869  75.72170895  75.9       ]\n"
     ]
    }
   ],
   "source": [
    "\"\"\"\n",
    "===========================\n",
    "Jet temperature and density\n",
    "===========================\n",
    "\"\"\"\n",
    "\n",
    "jet_temperature = 4000      # The jet temperature (K)\n",
    "jet_density_max = 1e18      # The jet number density at its outer edge (m^-3)\n",
    "jet_density_scaled = jet.density(gridpoints_LOS, power_density)\n",
    "\n",
    "jet_velocity    = jet.poloidal_velocity(gridpoints_LOS, power_velocity)\n",
    "\n",
    "jet_density        = jet_density_scaled*jet.gridpoints[:,2]*jet_density_max\n",
    "print(jet_density)\n"
   ]
  },
  {
   "cell_type": "code",
   "execution_count": 155,
   "metadata": {},
   "outputs": [
    {
     "name": "stdout",
     "output_type": "stream",
     "text": [
      "[  2.11512687e+19   1.60399598e+18   6.05884771e+15   1.72269260e+17\n",
      "   9.53603325e+17   1.80831336e+18   2.41344143e+18   2.78227510e+18\n",
      "   2.98538537e+18   3.08071039e+18   3.10753069e+18   3.09125276e+18\n",
      "   3.04817130e+18   2.98877635e+18   2.91986719e+18   2.84587743e+18\n",
      "   2.76970722e+18   2.69325106e+18   2.61773699e+18   2.54394736e+18]\n",
      "[ 0.04727849  0.06547909  0.08367969  0.10188029  0.12008089  0.13828149\n",
      "  0.15648209  0.17468269  0.19288329  0.21108389  0.22928449  0.24748509\n",
      "  0.26568569  0.28388629  0.30208689  0.32028749  0.33848809  0.35668869\n",
      "  0.37488929  0.39308989]\n",
      "0.9906\n"
     ]
    }
   ],
   "source": []
  }
 ],
 "metadata": {
  "kernelspec": {
   "display_name": "Python 3",
   "language": "python",
   "name": "python3"
  },
  "language_info": {
   "codemirror_mode": {
    "name": "ipython",
    "version": 3
   },
   "file_extension": ".py",
   "mimetype": "text/x-python",
   "name": "python",
   "nbconvert_exporter": "python",
   "pygments_lexer": "ipython3",
   "version": "3.6.1"
  }
 },
 "nbformat": 4,
 "nbformat_minor": 2
}
